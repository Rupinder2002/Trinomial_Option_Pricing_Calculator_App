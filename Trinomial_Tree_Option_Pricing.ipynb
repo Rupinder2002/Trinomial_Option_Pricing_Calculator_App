{
 "cells": [
  {
   "cell_type": "markdown",
   "id": "b74eb788",
   "metadata": {},
   "source": [
    "1. <font color=royalblue>Workbook defines a trinomial function which can be used  to evaluate Vanilla and Single Barrier Option</font>\n",
    "2. <font color=royalblue>Support both American & European Style</font>\n",
    "3. <font color=royalblue>Supported barrier pricing:</font>\n",
    "    1. **UP-OUT**\n",
    "    2. **UP-IN**\n",
    "    3. **DOWN-OUT**\n",
    "    4. **DOWN-IN**\n",
    "4.<font color=royalblue>Note:Does not yet support dividend payments and rebates. Will be incoporated in future versions</font>"
   ]
  },
  {
   "cell_type": "code",
   "execution_count": 1,
   "id": "0924c549",
   "metadata": {},
   "outputs": [],
   "source": [
    "import ipywidgets as widgets\n",
    "from IPython.display import display,clear_output"
   ]
  },
  {
   "cell_type": "code",
   "execution_count": 2,
   "id": "a631cb01",
   "metadata": {},
   "outputs": [],
   "source": [
    "#!jupyter nbextension enable --py widgetsnbextension --sys-prefix\n"
   ]
  },
  {
   "cell_type": "code",
   "execution_count": 3,
   "id": "662cb336",
   "metadata": {},
   "outputs": [],
   "source": [
    "#!jupyter serverextension enable voila --sys-prefix"
   ]
  },
  {
   "cell_type": "code",
   "execution_count": 4,
   "id": "073593e2",
   "metadata": {},
   "outputs": [],
   "source": [
    "import numpy as np\n",
    "import math\n"
   ]
  },
  {
   "cell_type": "code",
   "execution_count": 5,
   "id": "4f7f6cc0",
   "metadata": {},
   "outputs": [],
   "source": [
    "np.set_printoptions(precision=3,suppress=True)\n"
   ]
  },
  {
   "cell_type": "code",
   "execution_count": 6,
   "id": "9fbca9fe",
   "metadata": {},
   "outputs": [],
   "source": [
    "#Function Starts here:\n",
    "def trinomialtreepricing(S0,strike,sigma,T,N,r,OptionFlag,ExcerciseType,Barrier,BarrierType,H):\n",
    "    t= T/N\n",
    "    \n",
    "    #Size of UpMove (u) and DownMove (d)\n",
    "    u = math.exp(sigma*math.sqrt(2*t))\n",
    "    d = 1/u\n",
    "    \n",
    "    #Discount Factor\n",
    "    df = math.exp(-r*t)\n",
    "    \n",
    "    #Probability of UpMove(p_u),DownMove (p_d) & sideways move (p_m)\n",
    "    component_1 = math.exp(r*t/2)\n",
    "    component_2 = math.exp(-sigma*math.sqrt(t/2))\n",
    "    \n",
    "    denominator_1 = math.exp(sigma*math.sqrt(t/2))\n",
    "    denominator_2 = math.exp(-sigma*math.sqrt(t/2))\n",
    "    \n",
    "    p_u = math.pow((component_1 - component_2)/(denominator_1 - denominator_2),2)\n",
    "    p_d = math.pow((denominator_1 - component_1)/(denominator_1 - denominator_2),2)\n",
    "    p_m = 1- p_u - p_d\n",
    "    \n",
    "    #empty array to create stock price tree\n",
    "    S = np.zeros((N*2+1,N+1))\n",
    "    midpoint = int((N*2+1)/2)\n",
    "    \n",
    "    S[midpoint] = S0\n",
    "    \n",
    "    #For Loop to populate the price tree S in two tranches\n",
    "    #The upper tranche or half of the pricing tree\n",
    "    for i in range(midpoint-1,-1,-1):\n",
    "        for j in range(1,N+1):\n",
    "            S[i,j] = S[i+1,j-1]*u\n",
    "    \n",
    "    #The lower tranche or half of the pricing tree\n",
    "    for i in range(midpoint+1,N*2+1):\n",
    "        for j in range(1,N+1):\n",
    "            S[i,j] = S[i-1,j-1]*d\n",
    "\n",
    "    \n",
    "    ##empty array to create option payoff\n",
    "    P = np.zeros((N*2+1,N+1))\n",
    "    \n",
    "    #For Loop to fill the option payoff array P\n",
    "    #for i in range(0,S.shape[0]):\n",
    "    for j in range(N,-1,-1):\n",
    "        #for j in range(0,S.shape[1]):\n",
    "        for i in range(len(P) - (j+N)-1,j+N+1):\n",
    "            #print(i,j)\n",
    "            if Barrier == 'Y':\n",
    "                if (BarrierType == 'UP-OUT' and S[i,j] >= H):\n",
    "                    P[i,j] == 0   \n",
    "                elif (BarrierType == 'UP-IN' and S[i,j] < H):\n",
    "                        P[i,j] == 0\n",
    "                elif (BarrierType == 'DOWN-OUT' and S[i,j] <= H):\n",
    "                    P[i,j] == 0\n",
    "                elif (BarrierType == 'DOWN-IN' and S[i,j] > H):\n",
    "                    P[i,j] == 0 \n",
    "                elif OptionFlag == 'C':\n",
    "                    P[i,j] = max(S[i,j] - strike,0)\n",
    "                elif OptionFlag == 'P':\n",
    "                    P[i,j] = max(strike - S[i,j] ,0)\n",
    "                else:\n",
    "                    0\n",
    "            elif Barrier == 'N':\n",
    "                if OptionFlag == 'C':\n",
    "                    P[i,j] = max(S[i,j] - strike,0)\n",
    "                \n",
    "                elif OptionFlag == 'P':\n",
    "                    P[i,j] = max(strike - S[i,j] ,0)\n",
    "                else:\n",
    "                    0\n",
    "            \n",
    "    #empty array of option price\n",
    "    option_price = np.zeros((N*2+1,N+1))\n",
    "    \n",
    "    #Discounted recursive option price base on Barrier Condition and whether excercise type is American or European\n",
    "    for j in range(N,-1,-1):\n",
    "        if  j == N:\n",
    "            option_price[:,j] = P[:,j] \n",
    "        else:\n",
    "            for i in range(len(option_price) - (j+N)-1,j+N+1):\n",
    "                if Barrier == 'Y':\n",
    "                    if (BarrierType == 'UP-OUT' and S[i,j] >= H):\n",
    "                        0\n",
    "                    elif (BarrierType == 'UP-IN' and S[i,j] < H):\n",
    "                        0\n",
    "                    elif (BarrierType == 'DOWN-OUT' and S[i,j] <= H):\n",
    "                        0\n",
    "                    elif (BarrierType == 'DOWN-IN' and S[i,j] >= H):\n",
    "                        0   \n",
    "                    else:\n",
    "                        if ExcerciseType == 'A': \n",
    "                            option_price[i,j] = max((option_price[i,j+1]*p_m + option_price[i-1,j+1]*p_u + option_price[i+1,j+1]*p_d)*df,P[i,j])\n",
    "                        elif ExcerciseType == 'E':\n",
    "                            option_price[i,j] = (option_price[i,j+1]*p_m + option_price[i-1,j+1]*p_u + option_price[i+1,j+1]*p_d)*df\n",
    "                elif Barrier == 'N':\n",
    "                     if ExcerciseType == 'A': \n",
    "                            option_price[i,j] = max((option_price[i,j+1]*p_m + option_price[i-1,j+1]*p_u + option_price[i+1,j+1]*p_d)*df,P[i,j])\n",
    "                     elif ExcerciseType == 'E':\n",
    "                        option_price[i,j] = (option_price[i,j+1]*p_m + option_price[i-1,j+1]*p_u + option_price[i+1,j+1]*p_d)*df\n",
    "\n",
    "    #Just fuff to prettify the print output and return the option price, probabilities and size of up and downmove\n",
    "    if N > 9:\n",
    "        print('\\033[1m'+ 'For visibility nodes restricted to first 9 time steps'+ \"\\n\" \\\n",
    "              '\\033[94m' + '\\033[1m' + 'Price Tree'+ \"\\n\" \\\n",
    "              + '\\033[1;36m'  + '\\033[0m' + str(S[N-9+1:N+9,:9]))\n",
    "        \n",
    "        print('\\033[1m' + 'For visibility nodes restricted to first 9 time steps'+ \"\\n\" \\\n",
    "              + '\\033[33m' + 'Option Price Tree'+ \"\\n\" \\\n",
    "              + '\\033[0m' + str(option_price[N-9+1:N+9,:9]) + \"\\n\")\n",
    "\n",
    "    else:\n",
    "        print('\\033[94m' + '\\033[1m' + 'Price Tree'+ \"\\n\" + '\\033[0m' + str(S))\n",
    "        print('\\033[1;36m'  + '\\033[33m' + 'Option Price Tree'+ \"\\n\" + '\\033[0m' + str(option_price) + \"\\n\")\n",
    "\n",
    "    #return('Option Price: ' + str(np.round(option_price[midpoint,0],3)),\\\n",
    "           #'P(U): ' + str(np.round(p_u,3)),'P(M): ' + str(np.round(p_m,3)),'P(D): ' + str(np.round(p_d,3)),\\\n",
    "          #'Upmove: ' + str(np.round(u,3)),'Downmove: ' + str(np.round(d,3)))\n",
    "    \n",
    "    return(print('\\033[1m' + '\\033[31m' + 'Option Price: ' + '\\033[0m' + str(np.round(option_price[midpoint,0],3))+ \"\\n\"\\\n",
    "          +'\\033[1m' + '\\033[31m' + 'P(U): ' + '\\033[0m' + str(np.round(p_u,3))+ \"\\n\"\\\n",
    "          +'\\033[1m' + '\\033[31m' + 'P(M): ' + '\\033[0m' + str(np.round(p_m,3))+ \"\\n\"\\\n",
    "          +'\\033[1m' + '\\033[31m' + 'P(D): ' + '\\033[0m' + str(np.round(p_d,3))+ \"\\n\"\\\n",
    "          +'\\033[1m' + '\\033[31m' + 'Upmove: ' + '\\033[0m' + str(np.round(u,3))+ \"\\n\"\\\n",
    "          + '\\033[1m' + '\\033[31m' + 'Downmove: ' + '\\033[0m' + str(np.round(d,3))))\n",
    "\n",
    "###Function Ends here"
   ]
  },
  {
   "cell_type": "markdown",
   "id": "edf62669",
   "metadata": {},
   "source": [
    "**<font color=royalblue><u>User Input Section</u></font>**\n",
    "\n",
    "<font color=royalblue><u>The function has 11 inputs:</u></font>\n",
    "-  S0 -> Initial Price\n",
    "-  strike -> strike price\n",
    "-  sigma -> underlying volatility\n",
    "-  T -> time to expiry in years\n",
    "-  N -> number of steps for the tree\n",
    "-  r -> interest rate\n",
    "-  OptionFlag -> 'C' (Call)/ 'P' (Put)\n",
    "-  ExcerciseType -> 'A' (American)/ 'P' (European)\n",
    "- Barrier -> 'Y' (Yes)/ 'N' (No)\n",
    "-  BarrierType -> 'UP-OUT'/'UP-IN'/'DOWN-OUT'/'DOWN-IN' (**Note: Only required if barrier flag is 'Y'**)\n",
    "-  H -> Barrier Price (**Note: Only required if barrier flag is 'Y'**)\n"
   ]
  },
  {
   "cell_type": "code",
   "execution_count": 7,
   "id": "80456021",
   "metadata": {},
   "outputs": [
    {
     "data": {
      "application/vnd.jupyter.widget-view+json": {
       "model_id": "d50743b94d754bc68ff9ac11fc8e1892",
       "version_major": 2,
       "version_minor": 0
      },
      "text/plain": [
       "FloatText(value=100.0, description='S0:')"
      ]
     },
     "metadata": {},
     "output_type": "display_data"
    },
    {
     "data": {
      "application/vnd.jupyter.widget-view+json": {
       "model_id": "b33e48fa073e4d8e8b440dc544a92836",
       "version_major": 2,
       "version_minor": 0
      },
      "text/plain": [
       "FloatText(value=0.4, description='sigma:')"
      ]
     },
     "metadata": {},
     "output_type": "display_data"
    },
    {
     "data": {
      "application/vnd.jupyter.widget-view+json": {
       "model_id": "145a542a80604e53b6a988c5570b680e",
       "version_major": 2,
       "version_minor": 0
      },
      "text/plain": [
       "FloatText(value=1.0, description='T:')"
      ]
     },
     "metadata": {},
     "output_type": "display_data"
    },
    {
     "data": {
      "application/vnd.jupyter.widget-view+json": {
       "model_id": "1d97e1d9183840c68e44fee5b3b63a1a",
       "version_major": 2,
       "version_minor": 0
      },
      "text/plain": [
       "IntText(value=5, description='N:')"
      ]
     },
     "metadata": {},
     "output_type": "display_data"
    },
    {
     "data": {
      "application/vnd.jupyter.widget-view+json": {
       "model_id": "421cefc79ce4473a990a2b95fedc9dbc",
       "version_major": 2,
       "version_minor": 0
      },
      "text/plain": [
       "FloatText(value=60.0, description='strike:')"
      ]
     },
     "metadata": {},
     "output_type": "display_data"
    },
    {
     "data": {
      "application/vnd.jupyter.widget-view+json": {
       "model_id": "0d92e81a905641eaa0b15d40facd3b6d",
       "version_major": 2,
       "version_minor": 0
      },
      "text/plain": [
       "FloatText(value=0.05, description='r:')"
      ]
     },
     "metadata": {},
     "output_type": "display_data"
    },
    {
     "data": {
      "application/vnd.jupyter.widget-view+json": {
       "model_id": "3655be63d94049ee9e25aad2edb0e7ed",
       "version_major": 2,
       "version_minor": 0
      },
      "text/plain": [
       "Dropdown(description='Option Flag:', options=('C', 'P'), value='C')"
      ]
     },
     "metadata": {},
     "output_type": "display_data"
    },
    {
     "data": {
      "application/vnd.jupyter.widget-view+json": {
       "model_id": "04ad1bd9e44544f8bf7757b5a0b204a9",
       "version_major": 2,
       "version_minor": 0
      },
      "text/plain": [
       "Dropdown(description='ExcerciseType: ', options=('E', 'A'), value='E')"
      ]
     },
     "metadata": {},
     "output_type": "display_data"
    },
    {
     "data": {
      "application/vnd.jupyter.widget-view+json": {
       "model_id": "f0b825aba99147e9aacd9ba693a0b806",
       "version_major": 2,
       "version_minor": 0
      },
      "text/plain": [
       "Dropdown(description='Barrier:', options=('N', 'Y'), value='N')"
      ]
     },
     "metadata": {},
     "output_type": "display_data"
    },
    {
     "data": {
      "application/vnd.jupyter.widget-view+json": {
       "model_id": "2d2fe170487c4f6d951afa48e18f72f6",
       "version_major": 2,
       "version_minor": 0
      },
      "text/plain": [
       "Dropdown(description='BarrierType:', options=('None', 'UP-OUT', 'UP-IN', 'DOWN-OUT', 'DOWN-IN'), value='None')"
      ]
     },
     "metadata": {},
     "output_type": "display_data"
    },
    {
     "data": {
      "application/vnd.jupyter.widget-view+json": {
       "model_id": "de7abb2d9119469b86681c85a2a0f836",
       "version_major": 2,
       "version_minor": 0
      },
      "text/plain": [
       "FloatText(value=0.0, description='H:')"
      ]
     },
     "metadata": {},
     "output_type": "display_data"
    }
   ],
   "source": [
    "S0 = widgets.FloatText(value=100,description='S0:',disabled=False)\n",
    "\n",
    "sigma = widgets.FloatText(value=0.40,description='sigma:',disabled=False)\n",
    "\n",
    "T = widgets.FloatText(value=1,description='T:',disabled=False)\n",
    "\n",
    "N = widgets.IntText(value=5,description='N:',disabled=False)\n",
    "\n",
    "strike = widgets.FloatText(value=60,description='strike:',disabled=False)\n",
    "\n",
    "r = widgets.FloatText(value=0.05,description='r:',disabled=False)\n",
    "\n",
    "OptionFlag = widgets.Dropdown(options=['C','P'],description='Option Flag:',disabled=False)\n",
    "\n",
    "ExcerciseType = widgets.Dropdown(options=['E','A'],description='ExcerciseType: ',disabled=False)\n",
    "\n",
    "Barrier = widgets.Dropdown(options=['N','Y'],description='Barrier:',disabled=False)\n",
    "\n",
    "#Only required if it Barrier flag is 'Y'\n",
    "BarrierType = widgets.Dropdown(options=['None','UP-OUT','UP-IN','DOWN-OUT','DOWN-IN'],description='BarrierType:',disabled=False)\n",
    "H = widgets.FloatText(value=None,description='H:',disabled=False)\n",
    "\n",
    "out = widgets.Output()\n",
    "\n",
    "display(S0,sigma,T,N,strike,r,OptionFlag,ExcerciseType,Barrier,BarrierType,H)\n"
   ]
  },
  {
   "cell_type": "markdown",
   "id": "9ae16bac",
   "metadata": {},
   "source": [
    "**<font color=royalblue><u>The function produces 3 outputs:</u></font>**\n",
    "  \n",
    "1. Price Tree of the underlying \n",
    "2. Option Price Tree using backward induction\n",
    "3. List of:\n",
    "    1. Option Price,\n",
    "    2. P(U) - Probability of Upmove, \n",
    "    3. P(M) - Probability of horizontal move, \n",
    "    4. P(D) - Probability of down move , \n",
    "    5. Upmove, \n",
    "    6. Downmove\n"
   ]
  },
  {
   "cell_type": "code",
   "execution_count": 8,
   "id": "fca11888",
   "metadata": {},
   "outputs": [
    {
     "data": {
      "application/vnd.jupyter.widget-view+json": {
       "model_id": "bb4196f2cc2c43d7bf38eeebdc6aba1e",
       "version_major": 2,
       "version_minor": 0
      },
      "text/plain": [
       "VBox(children=(Button(description='Calculate', style=ButtonStyle()), Output()))"
      ]
     },
     "metadata": {},
     "output_type": "display_data"
    }
   ],
   "source": [
    "button = widgets.Button(description='Calculate',color='lime')\n",
    "out = widgets.Output()\n",
    "\n",
    "def on_button_clicked(_):\n",
    "    with out:\n",
    "        clear_output()\n",
    "        trinomialtreepricing(S0.value,strike.value,sigma.value,T.value,N.value,r.value,OptionFlag.value,\\\n",
    "                                   ExcerciseType.value,Barrier.value,BarrierType,H)\n",
    "        \n",
    "\n",
    "button.on_click(on_button_clicked)\n",
    "\n",
    "widgets.VBox([button,out])"
   ]
  },
  {
   "cell_type": "code",
   "execution_count": 1,
   "id": "ff8ec212",
   "metadata": {},
   "outputs": [
    {
     "name": "stdout",
     "output_type": "stream",
     "text": [
      "Note: you may need to restart the kernel to use updated packages.\n"
     ]
    }
   ],
   "source": [
    "pip list --format=freeze -> requirements.txt"
   ]
  }
 ],
 "metadata": {
  "kernelspec": {
   "display_name": "Python 3 (ipykernel)",
   "language": "python",
   "name": "python3"
  },
  "language_info": {
   "codemirror_mode": {
    "name": "ipython",
    "version": 3
   },
   "file_extension": ".py",
   "mimetype": "text/x-python",
   "name": "python",
   "nbconvert_exporter": "python",
   "pygments_lexer": "ipython3",
   "version": "3.9.7"
  }
 },
 "nbformat": 4,
 "nbformat_minor": 5
}
